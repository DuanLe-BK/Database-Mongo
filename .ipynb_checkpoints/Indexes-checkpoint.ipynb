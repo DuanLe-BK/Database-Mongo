{
 "cells": [
  {
   "cell_type": "code",
   "execution_count": null,
   "metadata": {},
   "outputs": [],
   "source": []
  },
  {
   "cell_type": "code",
   "execution_count": null,
   "metadata": {},
   "outputs": [],
   "source": []
  },
  {
   "cell_type": "markdown",
   "metadata": {},
   "source": [
    "## Multikey Indexes\n",
    "\n",
    "<hr>\n",
    "\n",
    "To index a field that holds an array value, MongoDB creates an index key for each element in the array. **Multikey indexes** can be constructed over arrays that hold both <span style=\"color:red\"> scalar values </span> (e.g. strings, numbers) and <span style=\"color:red\"> nested documents </span>."
   ]
  },
  {
   "cell_type": "markdown",
   "metadata": {},
   "source": []
  },
  {
   "cell_type": "markdown",
   "metadata": {},
   "source": [
    "### Create Multikey Index\n",
    "\n",
    "To create a **multikey index**, use the <span style=\"color:green\">db.collection.createIndex() </span> method:\n",
    "\n",
    "```mongo-cli\n",
    "\n",
    "    db.coll.createIndex( { <field>: < 1 or -1 > } )\n",
    "    \n",
    "```"
   ]
  },
  {
   "cell_type": "markdown",
   "metadata": {},
   "source": [
    "#### Index Bounds\n",
    "\n",
    "If an index is multikey, then computation of the index bounds follows special rules. For details on [multikey index bounds](#Multikey-Index-Bounds)"
   ]
  },
  {
   "cell_type": "markdown",
   "metadata": {},
   "source": [
    "#### Unique Multikey Index\n",
    "\n",
    "For <span style=\"color:red\">unique </span> indexes, the unique constraint applies across <span style=\"color:red\">separate documents </span> in the collection rather than within a single document."
   ]
  },
  {
   "cell_type": "code",
   "execution_count": null,
   "metadata": {},
   "outputs": [],
   "source": []
  }
 ],
 "metadata": {
  "kernelspec": {
   "display_name": "Python 3",
   "language": "python",
   "name": "python3"
  },
  "language_info": {
   "codemirror_mode": {
    "name": "ipython",
    "version": 3
   },
   "file_extension": ".py",
   "mimetype": "text/x-python",
   "name": "python",
   "nbconvert_exporter": "python",
   "pygments_lexer": "ipython3",
   "version": "3.7.2"
  }
 },
 "nbformat": 4,
 "nbformat_minor": 2
}
